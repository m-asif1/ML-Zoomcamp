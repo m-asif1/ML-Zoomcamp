{
  "nbformat": 4,
  "nbformat_minor": 0,
  "metadata": {
    "colab": {
      "provenance": []
    },
    "kernelspec": {
      "name": "python3",
      "display_name": "Python 3"
    },
    "language_info": {
      "name": "python"
    }
  },
  "cells": [
    {
      "cell_type": "markdown",
      "source": [
        "# Homework\n",
        "\n",
        "### Set up the environment\n",
        "\n",
        "You need to install Python, NumPy, Pandas, Matplotlib and Seaborn."
      ],
      "metadata": {
        "id": "UC32KgBUDdgQ"
      }
    },
    {
      "cell_type": "code",
      "execution_count": 1,
      "metadata": {
        "id": "C4vr3pK4DUTD"
      },
      "outputs": [],
      "source": [
        "import numpy as np\n",
        "import pandas as pd\n",
        "import matplotlib.pyplot as plt\n",
        "import seaborn as sns"
      ]
    },
    {
      "cell_type": "markdown",
      "source": [
        "### Question 1\n",
        "\n",
        "What's the version of Pandas that you installed?\n",
        "\n",
        "You can get the version information using the `__version__` field:\n",
        "\n",
        "```python\n",
        "pd.__version__\n",
        "```"
      ],
      "metadata": {
        "id": "-9ZoX43DDtcI"
      }
    },
    {
      "cell_type": "code",
      "source": [
        "pd.__version__"
      ],
      "metadata": {
        "colab": {
          "base_uri": "https://localhost:8080/",
          "height": 35
        },
        "id": "OuCy3_cSDxVe",
        "outputId": "3bb90168-d8b9-40a3-94cc-4653ac28967a"
      },
      "execution_count": 2,
      "outputs": [
        {
          "output_type": "execute_result",
          "data": {
            "text/plain": [
              "'1.5.3'"
            ],
            "application/vnd.google.colaboratory.intrinsic+json": {
              "type": "string"
            }
          },
          "metadata": {},
          "execution_count": 2
        }
      ]
    },
    {
      "cell_type": "markdown",
      "source": [
        "### Getting the data\n",
        "\n",
        "For this homework, we'll use the California Housing Prices dataset. Download it from\n",
        "[here](https://raw.githubusercontent.com/alexeygrigorev/datasets/master/housing.csv)."
      ],
      "metadata": {
        "id": "29rVqAX8D7zO"
      }
    },
    {
      "cell_type": "code",
      "source": [
        "!wget https://raw.githubusercontent.com/alexeygrigorev/datasets/master/housing.csv"
      ],
      "metadata": {
        "colab": {
          "base_uri": "https://localhost:8080/"
        },
        "id": "-30vYeZLD8su",
        "outputId": "c770993a-0ec7-4a90-c64c-59235f31d664"
      },
      "execution_count": 3,
      "outputs": [
        {
          "output_type": "stream",
          "name": "stdout",
          "text": [
            "--2023-09-19 20:10:46--  https://raw.githubusercontent.com/alexeygrigorev/datasets/master/housing.csv\n",
            "Resolving raw.githubusercontent.com (raw.githubusercontent.com)... 185.199.108.133, 185.199.109.133, 185.199.110.133, ...\n",
            "Connecting to raw.githubusercontent.com (raw.githubusercontent.com)|185.199.108.133|:443... connected.\n",
            "HTTP request sent, awaiting response... 200 OK\n",
            "Length: 1423529 (1.4M) [text/plain]\n",
            "Saving to: ‘housing.csv’\n",
            "\n",
            "\rhousing.csv           0%[                    ]       0  --.-KB/s               \rhousing.csv         100%[===================>]   1.36M  --.-KB/s    in 0.01s   \n",
            "\n",
            "2023-09-19 20:10:46 (134 MB/s) - ‘housing.csv’ saved [1423529/1423529]\n",
            "\n"
          ]
        }
      ]
    },
    {
      "cell_type": "markdown",
      "source": [
        "### Question 2\n",
        "\n",
        "How many columns are in the dataset?\n",
        "\n",
        "- 10\n",
        "- 6560\n",
        "- 10989\n",
        "- 20640"
      ],
      "metadata": {
        "id": "d5dDlpPjEXSN"
      }
    },
    {
      "cell_type": "code",
      "source": [
        "df_housing = pd.read_csv('housing.csv')\n",
        "df_housing.shape"
      ],
      "metadata": {
        "colab": {
          "base_uri": "https://localhost:8080/"
        },
        "id": "OkwYWoLAEYHl",
        "outputId": "01d9a253-1657-4e28-904c-87ab12fdc5a0"
      },
      "execution_count": 4,
      "outputs": [
        {
          "output_type": "execute_result",
          "data": {
            "text/plain": [
              "(20640, 10)"
            ]
          },
          "metadata": {},
          "execution_count": 4
        }
      ]
    },
    {
      "cell_type": "code",
      "source": [
        "print(\"Columns:\", df_housing.shape[1])"
      ],
      "metadata": {
        "colab": {
          "base_uri": "https://localhost:8080/"
        },
        "id": "MeFWNarpE0js",
        "outputId": "2166e76f-beb7-4cf2-994f-b7d5c990d0c9"
      },
      "execution_count": 5,
      "outputs": [
        {
          "output_type": "stream",
          "name": "stdout",
          "text": [
            "Columns: 10\n"
          ]
        }
      ]
    },
    {
      "cell_type": "markdown",
      "source": [
        "### Question 3\n",
        "\n",
        "Which columns in the dataset have missing values?\n",
        "\n",
        "- `total_rooms`\n",
        "- `total_bedrooms`\n",
        "- both of the above\n",
        "- no empty columns in the dataset"
      ],
      "metadata": {
        "id": "U_-UoD9AEp8s"
      }
    },
    {
      "cell_type": "code",
      "source": [
        "df_housing.isnull().sum()"
      ],
      "metadata": {
        "colab": {
          "base_uri": "https://localhost:8080/"
        },
        "id": "UtdUVorvEqtk",
        "outputId": "c7b29d07-2e35-4355-b54b-edcfe83b9cd6"
      },
      "execution_count": 6,
      "outputs": [
        {
          "output_type": "execute_result",
          "data": {
            "text/plain": [
              "longitude               0\n",
              "latitude                0\n",
              "housing_median_age      0\n",
              "total_rooms             0\n",
              "total_bedrooms        207\n",
              "population              0\n",
              "households              0\n",
              "median_income           0\n",
              "median_house_value      0\n",
              "ocean_proximity         0\n",
              "dtype: int64"
            ]
          },
          "metadata": {},
          "execution_count": 6
        }
      ]
    },
    {
      "cell_type": "markdown",
      "source": [
        "### Question 4\n",
        "\n",
        "How many unique values does the `ocean_proximity` column have?\n",
        "\n",
        "- 3\n",
        "- 5\n",
        "- 7\n",
        "- 9"
      ],
      "metadata": {
        "id": "MoLfp5xBFNRz"
      }
    },
    {
      "cell_type": "code",
      "source": [
        "print('Unique values:', df_housing.ocean_proximity.nunique() )"
      ],
      "metadata": {
        "colab": {
          "base_uri": "https://localhost:8080/"
        },
        "id": "U_-vm00BFOIL",
        "outputId": "5377339a-2a86-46c5-a27b-9185fa93355a"
      },
      "execution_count": 7,
      "outputs": [
        {
          "output_type": "stream",
          "name": "stdout",
          "text": [
            "Unique values: 5\n"
          ]
        }
      ]
    },
    {
      "cell_type": "markdown",
      "source": [
        "### Question 5\n",
        "\n",
        "What's the average value of the `median_house_value` for the houses located near the bay?\n",
        "\n",
        "- 49433\n",
        "- 124805\n",
        "- 259212\n",
        "- 380440"
      ],
      "metadata": {
        "id": "7vwL1daZFjXr"
      }
    },
    {
      "cell_type": "code",
      "source": [
        "df_housing[df_housing['ocean_proximity']=='NEAR BAY']['median_house_value'].mean()"
      ],
      "metadata": {
        "colab": {
          "base_uri": "https://localhost:8080/"
        },
        "id": "5Sc_UC4_Fr7j",
        "outputId": "ee7f12be-02f8-4185-e7c7-87c60d9666c7"
      },
      "execution_count": 8,
      "outputs": [
        {
          "output_type": "execute_result",
          "data": {
            "text/plain": [
              "259212.31179039303"
            ]
          },
          "metadata": {},
          "execution_count": 8
        }
      ]
    },
    {
      "cell_type": "markdown",
      "source": [
        "### Question 6\n",
        "\n",
        "1. Calculate the average of `total_bedrooms` column in the dataset.\n",
        "2. Use the `fillna` method to fill the missing values in `total_bedrooms` with the mean value from the previous step.\n",
        "3. Now, calculate the average of `total_bedrooms` again.\n",
        "4. Has it changed?\n",
        "\n",
        "Has it changed?\n",
        "\n",
        "> Hint: take into account only 3 digits after the decimal point.\n",
        "\n",
        "- Yes\n",
        "- No"
      ],
      "metadata": {
        "id": "U2uX_amuGE20"
      }
    },
    {
      "cell_type": "code",
      "source": [
        "df_housing['total_bedrooms'].mean()"
      ],
      "metadata": {
        "colab": {
          "base_uri": "https://localhost:8080/"
        },
        "id": "nbX0MDZLGFpy",
        "outputId": "e252c9a9-fb82-4aca-f1f1-45b3dfb0d1d8"
      },
      "execution_count": 9,
      "outputs": [
        {
          "output_type": "execute_result",
          "data": {
            "text/plain": [
              "537.8705525375618"
            ]
          },
          "metadata": {},
          "execution_count": 9
        }
      ]
    },
    {
      "cell_type": "code",
      "source": [
        "df_housing['total_bedrooms'].fillna(df_housing['total_bedrooms'].mean(), inplace=True)\n",
        "df_housing['total_bedrooms'].isnull().sum()"
      ],
      "metadata": {
        "colab": {
          "base_uri": "https://localhost:8080/"
        },
        "id": "csalN6VCGW3C",
        "outputId": "32b33500-911a-403d-85f5-8f7c077adca8"
      },
      "execution_count": 10,
      "outputs": [
        {
          "output_type": "execute_result",
          "data": {
            "text/plain": [
              "0"
            ]
          },
          "metadata": {},
          "execution_count": 10
        }
      ]
    },
    {
      "cell_type": "code",
      "source": [
        "df_housing['total_bedrooms'].mean()"
      ],
      "metadata": {
        "colab": {
          "base_uri": "https://localhost:8080/"
        },
        "id": "0jqYb90xGh2r",
        "outputId": "843a1ad2-f9e3-4f80-9d7b-cfc71f189b37"
      },
      "execution_count": 12,
      "outputs": [
        {
          "output_type": "execute_result",
          "data": {
            "text/plain": [
              "537.8705525375617"
            ]
          },
          "metadata": {},
          "execution_count": 12
        }
      ]
    },
    {
      "cell_type": "code",
      "source": [
        "# No change"
      ],
      "metadata": {
        "id": "NpEIgrH5Gpjp"
      },
      "execution_count": 13,
      "outputs": []
    },
    {
      "cell_type": "markdown",
      "source": [
        "### Question 7\n",
        "\n",
        "1. Select all the options located on islands.\n",
        "2. Select only columns `housing_median_age`, `total_rooms`, `total_bedrooms`.\n",
        "3. Get the underlying NumPy array. Let's call it `X`.\n",
        "4. Compute matrix-matrix multiplication between the transpose of `X` and `X`. To get the transpose, use `X.T`. Let's call the result `XTX`.\n",
        "5. Compute the inverse of `XTX`.\n",
        "6. Create an array `y` with values `[950, 1300, 800, 1000, 1300]`.\n",
        "7. Multiply the inverse of `XTX` with the transpose of `X`, and then multiply the result by `y`. Call the result `w`.\n",
        "8. What's the value of the last element of `w`?\n",
        "\n",
        "> **Note**: You just implemented linear regression. We'll talk about it in the next lesson.\n",
        "\n",
        "- -1.4812\n",
        "- 0.001\n",
        "- 5.6992\n",
        "- 23.1233"
      ],
      "metadata": {
        "id": "tHO-lryjGvdM"
      }
    },
    {
      "cell_type": "code",
      "source": [
        "#options located on Island\n",
        "df_housing['ocean_proximity'].unique()"
      ],
      "metadata": {
        "colab": {
          "base_uri": "https://localhost:8080/"
        },
        "id": "F38T9BR8GwOY",
        "outputId": "56dfda27-912c-4228-b0be-9fc392f8d6ce"
      },
      "execution_count": 15,
      "outputs": [
        {
          "output_type": "execute_result",
          "data": {
            "text/plain": [
              "array(['NEAR BAY', '<1H OCEAN', 'INLAND', 'NEAR OCEAN', 'ISLAND'],\n",
              "      dtype=object)"
            ]
          },
          "metadata": {},
          "execution_count": 15
        }
      ]
    },
    {
      "cell_type": "code",
      "source": [
        "df_houseIsland=df_housing[df_housing['ocean_proximity']=='ISLAND']\n",
        "df_houseIsland.columns"
      ],
      "metadata": {
        "colab": {
          "base_uri": "https://localhost:8080/"
        },
        "id": "oFhYkJXDHCPX",
        "outputId": "f8509af5-84fe-45d1-cf58-9e06c6b90367"
      },
      "execution_count": 16,
      "outputs": [
        {
          "output_type": "execute_result",
          "data": {
            "text/plain": [
              "Index(['longitude', 'latitude', 'housing_median_age', 'total_rooms',\n",
              "       'total_bedrooms', 'population', 'households', 'median_income',\n",
              "       'median_house_value', 'ocean_proximity'],\n",
              "      dtype='object')"
            ]
          },
          "metadata": {},
          "execution_count": 16
        }
      ]
    },
    {
      "cell_type": "code",
      "source": [
        "df_houseIsland=df_houseIsland[['housing_median_age','total_rooms','total_bedrooms']]"
      ],
      "metadata": {
        "id": "XuacwmXeHQbg"
      },
      "execution_count": 17,
      "outputs": []
    },
    {
      "cell_type": "code",
      "source": [
        "X=np.array(df_houseIsland)\n",
        "X"
      ],
      "metadata": {
        "colab": {
          "base_uri": "https://localhost:8080/"
        },
        "id": "CIEKAIyxHTMx",
        "outputId": "3be70b97-9be0-4f9e-b016-d773846eb5e2"
      },
      "execution_count": 18,
      "outputs": [
        {
          "output_type": "execute_result",
          "data": {
            "text/plain": [
              "array([[  27., 1675.,  521.],\n",
              "       [  52., 2359.,  591.],\n",
              "       [  52., 2127.,  512.],\n",
              "       [  52.,  996.,  264.],\n",
              "       [  29.,  716.,  214.]])"
            ]
          },
          "metadata": {},
          "execution_count": 18
        }
      ]
    },
    {
      "cell_type": "code",
      "source": [
        "TX=X.T\n",
        "TX"
      ],
      "metadata": {
        "colab": {
          "base_uri": "https://localhost:8080/"
        },
        "id": "JIYdeEBZHomv",
        "outputId": "53a6bb07-3104-44dc-dda2-8f0f66d7175a"
      },
      "execution_count": 19,
      "outputs": [
        {
          "output_type": "execute_result",
          "data": {
            "text/plain": [
              "array([[  27.,   52.,   52.,   52.,   29.],\n",
              "       [1675., 2359., 2127.,  996.,  716.],\n",
              "       [ 521.,  591.,  512.,  264.,  214.]])"
            ]
          },
          "metadata": {},
          "execution_count": 19
        }
      ]
    },
    {
      "cell_type": "code",
      "source": [
        "# Compute matrix-matrix multiplication between the transpose of X and X. To get the transpose, use X.T\n",
        "XTX=np.dot(TX,X)\n",
        "XTX"
      ],
      "metadata": {
        "colab": {
          "base_uri": "https://localhost:8080/"
        },
        "id": "-_zzbgAYHvYo",
        "outputId": "4e3d4f7f-48b3-4e21-bb0d-f22bc7c99eaf"
      },
      "execution_count": 20,
      "outputs": [
        {
          "output_type": "execute_result",
          "data": {
            "text/plain": [
              "array([[9.6820000e+03, 3.5105300e+05, 9.1357000e+04],\n",
              "       [3.5105300e+05, 1.4399307e+07, 3.7720360e+06],\n",
              "       [9.1357000e+04, 3.7720360e+06, 9.9835800e+05]])"
            ]
          },
          "metadata": {},
          "execution_count": 20
        }
      ]
    },
    {
      "cell_type": "code",
      "source": [
        "XTX=np.dot(X.T,X)\n",
        "XTX"
      ],
      "metadata": {
        "colab": {
          "base_uri": "https://localhost:8080/"
        },
        "id": "djOhGtlEH2Cv",
        "outputId": "afff9d3d-a50c-41ac-9d03-4d29b8b073ea"
      },
      "execution_count": 21,
      "outputs": [
        {
          "output_type": "execute_result",
          "data": {
            "text/plain": [
              "array([[9.6820000e+03, 3.5105300e+05, 9.1357000e+04],\n",
              "       [3.5105300e+05, 1.4399307e+07, 3.7720360e+06],\n",
              "       [9.1357000e+04, 3.7720360e+06, 9.9835800e+05]])"
            ]
          },
          "metadata": {},
          "execution_count": 21
        }
      ]
    },
    {
      "cell_type": "code",
      "source": [
        "# Compute the inverse of XTX.\n",
        "XTX_inv=np.linalg.inv(XTX)"
      ],
      "metadata": {
        "id": "HTOouxEdH6cP"
      },
      "execution_count": 22,
      "outputs": []
    },
    {
      "cell_type": "code",
      "source": [
        "# Create an array y\n",
        "y=np.array([950, 1300, 800, 1000, 1300])"
      ],
      "metadata": {
        "id": "n1pWz6-TIBM6"
      },
      "execution_count": 23,
      "outputs": []
    },
    {
      "cell_type": "code",
      "source": [
        "# Multiply the inverse of XTX with the transpose of X, and then multiply the result by y.\n",
        "w=np.dot(np.dot(XTX_inv,TX),y)\n",
        "w"
      ],
      "metadata": {
        "colab": {
          "base_uri": "https://localhost:8080/"
        },
        "id": "FsfoE4F6IG12",
        "outputId": "3fd052b6-a1dc-4905-ab27-4ba4f38de478"
      },
      "execution_count": 27,
      "outputs": [
        {
          "output_type": "execute_result",
          "data": {
            "text/plain": [
              "array([23.12330961, -1.48124183,  5.69922946])"
            ]
          },
          "metadata": {},
          "execution_count": 27
        }
      ]
    },
    {
      "cell_type": "code",
      "source": [
        "w[-1]"
      ],
      "metadata": {
        "colab": {
          "base_uri": "https://localhost:8080/"
        },
        "id": "ABdGDUeRILxG",
        "outputId": "10576f11-490e-4e3e-d8b8-de7a914141e4"
      },
      "execution_count": 28,
      "outputs": [
        {
          "output_type": "execute_result",
          "data": {
            "text/plain": [
              "5.699229455065586"
            ]
          },
          "metadata": {},
          "execution_count": 28
        }
      ]
    }
  ]
}