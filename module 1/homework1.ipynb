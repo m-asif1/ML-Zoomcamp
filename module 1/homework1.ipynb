{
  "cells": [
    {
      "cell_type": "markdown",
      "metadata": {
        "id": "UC32KgBUDdgQ"
      },
      "source": [
        "\n",
        "### Set up the environment\n",
        "\n",
        "You need to install Python, NumPy, Pandas, Matplotlib and Seaborn."
      ]
    },
    {
      "cell_type": "code",
      "execution_count": 2,
      "metadata": {
        "id": "C4vr3pK4DUTD"
      },
      "outputs": [],
      "source": [
        "import numpy as np\n",
        "import pandas as pd\n",
        "import matplotlib.pyplot as plt\n",
        "#import seaborn as sns"
      ]
    },
    {
      "cell_type": "markdown",
      "metadata": {
        "id": "-9ZoX43DDtcI"
      },
      "source": [
        "### Question 1\n",
        "\n",
        "What's the version of Pandas that you installed?\n",
        "\n",
        "You can get the version information using the `__version__` field:\n",
        "\n",
        "```python\n",
        "pd.__version__\n",
        "```"
      ]
    },
    {
      "cell_type": "code",
      "execution_count": 3,
      "metadata": {
        "colab": {
          "base_uri": "https://localhost:8080/",
          "height": 35
        },
        "id": "OuCy3_cSDxVe",
        "outputId": "3bb90168-d8b9-40a3-94cc-4653ac28967a"
      },
      "outputs": [
        {
          "data": {
            "text/plain": [
              "'2.2.2'"
            ]
          },
          "execution_count": 3,
          "metadata": {},
          "output_type": "execute_result"
        }
      ],
      "source": [
        "pd.__version__"
      ]
    },
    {
      "cell_type": "markdown",
      "metadata": {
        "id": "29rVqAX8D7zO"
      },
      "source": [
        "### Getting the data\n",
        "\n",
        "For this homework, we'll use the Laptops Price dataset. Download it from\n",
        "[here](https://raw.githubusercontent.com/alexeygrigorev/datasets/master/housing.csv)."
      ]
    },
    {
      "cell_type": "code",
      "execution_count": 4,
      "metadata": {
        "colab": {
          "base_uri": "https://localhost:8080/"
        },
        "id": "-30vYeZLD8su",
        "outputId": "c770993a-0ec7-4a90-c64c-59235f31d664"
      },
      "outputs": [
        {
          "name": "stderr",
          "output_type": "stream",
          "text": [
            "--2024-10-01 19:47:36--  https://raw.githubusercontent.com/alexeygrigorev/datasets/master/laptops.csv\n",
            "Resolving raw.githubusercontent.com (raw.githubusercontent.com)... 185.199.110.133, 185.199.109.133, 185.199.108.133, ...\n",
            "Connecting to raw.githubusercontent.com (raw.githubusercontent.com)|185.199.110.133|:443... connected.\n",
            "HTTP request sent, awaiting response... 200 OK\n",
            "Length: 298573 (292K) [text/plain]\n",
            "Saving to: 'laptops.csv.1'\n",
            "\n",
            "     0K .......... .......... .......... .......... .......... 17%  283K 1s\n",
            "    50K .......... .......... .......... .......... .......... 34%  491K 1s\n",
            "   100K .......... .......... .......... .......... .......... 51%  506K 0s\n",
            "   150K .......... .......... .......... .......... .......... 68%  195K 0s\n",
            "   200K .......... .......... .......... .......... .......... 85%  802K 0s\n",
            "   250K .......... .......... .......... .......... .         100%  441K=0.8s\n",
            "\n",
            "2024-10-01 19:47:38 (369 KB/s) - 'laptops.csv.1' saved [298573/298573]\n",
            "\n"
          ]
        }
      ],
      "source": [
        "!wget https://raw.githubusercontent.com/alexeygrigorev/datasets/master/laptops.csv"
      ]
    },
    {
      "cell_type": "markdown",
      "metadata": {
        "id": "d5dDlpPjEXSN"
      },
      "source": [
        "### Question 2\n",
        "###  Records count\n",
        "\n",
        "How many records are in the dataset?\n",
        "\n",
        "- 12\n",
        "- 1000\n",
        "- 2160\n",
        "- 12160"
      ]
    },
    {
      "cell_type": "code",
      "execution_count": 7,
      "metadata": {
        "colab": {
          "base_uri": "https://localhost:8080/"
        },
        "id": "OkwYWoLAEYHl",
        "outputId": "01d9a253-1657-4e28-904c-87ab12fdc5a0"
      },
      "outputs": [
        {
          "data": {
            "text/plain": [
              "2160"
            ]
          },
          "execution_count": 7,
          "metadata": {},
          "output_type": "execute_result"
        }
      ],
      "source": [
        "# Get the number of records in the dataset\n",
        "df_laptops = pd.read_csv('laptops.csv')\n",
        "df_laptops.shape[0]"
      ]
    },
    {
      "cell_type": "code",
      "execution_count": 11,
      "metadata": {},
      "outputs": [
        {
          "data": {
            "text/html": [
              "<div>\n",
              "<style scoped>\n",
              "    .dataframe tbody tr th:only-of-type {\n",
              "        vertical-align: middle;\n",
              "    }\n",
              "\n",
              "    .dataframe tbody tr th {\n",
              "        vertical-align: top;\n",
              "    }\n",
              "\n",
              "    .dataframe thead th {\n",
              "        text-align: right;\n",
              "    }\n",
              "</style>\n",
              "<table border=\"1\" class=\"dataframe\">\n",
              "  <thead>\n",
              "    <tr style=\"text-align: right;\">\n",
              "      <th></th>\n",
              "      <th>Laptop</th>\n",
              "      <th>Status</th>\n",
              "      <th>Brand</th>\n",
              "      <th>Model</th>\n",
              "      <th>CPU</th>\n",
              "      <th>RAM</th>\n",
              "      <th>Storage</th>\n",
              "      <th>Storage type</th>\n",
              "      <th>GPU</th>\n",
              "      <th>Screen</th>\n",
              "      <th>Touch</th>\n",
              "      <th>Final Price</th>\n",
              "    </tr>\n",
              "  </thead>\n",
              "  <tbody>\n",
              "    <tr>\n",
              "      <th>0</th>\n",
              "      <td>ASUS ExpertBook B1 B1502CBA-EJ0436X Intel Core...</td>\n",
              "      <td>New</td>\n",
              "      <td>Asus</td>\n",
              "      <td>ExpertBook</td>\n",
              "      <td>Intel Core i5</td>\n",
              "      <td>8</td>\n",
              "      <td>512</td>\n",
              "      <td>SSD</td>\n",
              "      <td>NaN</td>\n",
              "      <td>15.6</td>\n",
              "      <td>No</td>\n",
              "      <td>1009.00</td>\n",
              "    </tr>\n",
              "    <tr>\n",
              "      <th>1</th>\n",
              "      <td>Alurin Go Start Intel Celeron N4020/8GB/256GB ...</td>\n",
              "      <td>New</td>\n",
              "      <td>Alurin</td>\n",
              "      <td>Go</td>\n",
              "      <td>Intel Celeron</td>\n",
              "      <td>8</td>\n",
              "      <td>256</td>\n",
              "      <td>SSD</td>\n",
              "      <td>NaN</td>\n",
              "      <td>15.6</td>\n",
              "      <td>No</td>\n",
              "      <td>299.00</td>\n",
              "    </tr>\n",
              "    <tr>\n",
              "      <th>2</th>\n",
              "      <td>ASUS ExpertBook B1 B1502CBA-EJ0424X Intel Core...</td>\n",
              "      <td>New</td>\n",
              "      <td>Asus</td>\n",
              "      <td>ExpertBook</td>\n",
              "      <td>Intel Core i3</td>\n",
              "      <td>8</td>\n",
              "      <td>256</td>\n",
              "      <td>SSD</td>\n",
              "      <td>NaN</td>\n",
              "      <td>15.6</td>\n",
              "      <td>No</td>\n",
              "      <td>789.00</td>\n",
              "    </tr>\n",
              "    <tr>\n",
              "      <th>3</th>\n",
              "      <td>MSI Katana GF66 12UC-082XES Intel Core i7-1270...</td>\n",
              "      <td>New</td>\n",
              "      <td>MSI</td>\n",
              "      <td>Katana</td>\n",
              "      <td>Intel Core i7</td>\n",
              "      <td>16</td>\n",
              "      <td>1000</td>\n",
              "      <td>SSD</td>\n",
              "      <td>RTX 3050</td>\n",
              "      <td>15.6</td>\n",
              "      <td>No</td>\n",
              "      <td>1199.00</td>\n",
              "    </tr>\n",
              "    <tr>\n",
              "      <th>4</th>\n",
              "      <td>HP 15S-FQ5085NS Intel Core i5-1235U/16GB/512GB...</td>\n",
              "      <td>New</td>\n",
              "      <td>HP</td>\n",
              "      <td>15S</td>\n",
              "      <td>Intel Core i5</td>\n",
              "      <td>16</td>\n",
              "      <td>512</td>\n",
              "      <td>SSD</td>\n",
              "      <td>NaN</td>\n",
              "      <td>15.6</td>\n",
              "      <td>No</td>\n",
              "      <td>669.01</td>\n",
              "    </tr>\n",
              "  </tbody>\n",
              "</table>\n",
              "</div>"
            ],
            "text/plain": [
              "                                              Laptop Status   Brand  \\\n",
              "0  ASUS ExpertBook B1 B1502CBA-EJ0436X Intel Core...    New    Asus   \n",
              "1  Alurin Go Start Intel Celeron N4020/8GB/256GB ...    New  Alurin   \n",
              "2  ASUS ExpertBook B1 B1502CBA-EJ0424X Intel Core...    New    Asus   \n",
              "3  MSI Katana GF66 12UC-082XES Intel Core i7-1270...    New     MSI   \n",
              "4  HP 15S-FQ5085NS Intel Core i5-1235U/16GB/512GB...    New      HP   \n",
              "\n",
              "        Model            CPU  RAM  Storage Storage type       GPU  Screen  \\\n",
              "0  ExpertBook  Intel Core i5    8      512          SSD       NaN    15.6   \n",
              "1          Go  Intel Celeron    8      256          SSD       NaN    15.6   \n",
              "2  ExpertBook  Intel Core i3    8      256          SSD       NaN    15.6   \n",
              "3      Katana  Intel Core i7   16     1000          SSD  RTX 3050    15.6   \n",
              "4         15S  Intel Core i5   16      512          SSD       NaN    15.6   \n",
              "\n",
              "  Touch  Final Price  \n",
              "0    No      1009.00  \n",
              "1    No       299.00  \n",
              "2    No       789.00  \n",
              "3    No      1199.00  \n",
              "4    No       669.01  "
            ]
          },
          "execution_count": 11,
          "metadata": {},
          "output_type": "execute_result"
        }
      ],
      "source": [
        "df_laptops.head()"
      ]
    },
    {
      "cell_type": "markdown",
      "metadata": {},
      "source": [
        "### Q3. Laptop brands\n",
        "\n",
        "How many laptop brands are presented in the dataset?\n",
        "- 12\n",
        "- 27\n",
        "- 28\n",
        "- 2160"
      ]
    },
    {
      "cell_type": "code",
      "execution_count": 12,
      "metadata": {},
      "outputs": [
        {
          "name": "stdout",
          "output_type": "stream",
          "text": [
            "27\n"
          ]
        }
      ],
      "source": [
        "#  Count the number of unique laptop brands\n",
        "laptop_brands = df_laptops['Brand'].nunique()\n",
        "print(laptop_brands)"
      ]
    },
    {
      "cell_type": "markdown",
      "metadata": {
        "id": "U_-UoD9AEp8s"
      },
      "source": [
        "### Question 4\n",
        "### Missing values\n",
        "\n",
        "How many columns in the dataset have missing values?\n",
        "\n",
        "- 0\n",
        "- 1\n",
        "- 2\n",
        "- 3"
      ]
    },
    {
      "cell_type": "code",
      "execution_count": 13,
      "metadata": {},
      "outputs": [],
      "source": [
        "# Check for columns with missing values\n",
        "missing_columns = df_laptops.isnull().sum()"
      ]
    },
    {
      "cell_type": "code",
      "execution_count": 14,
      "metadata": {},
      "outputs": [
        {
          "name": "stdout",
          "output_type": "stream",
          "text": [
            "3\n"
          ]
        }
      ],
      "source": [
        "# Count how many columns have missing values\n",
        "missing_columns_count = (missing_columns > 0).sum()\n",
        "print(missing_columns_count)"
      ]
    },
    {
      "cell_type": "markdown",
      "metadata": {
        "id": "MoLfp5xBFNRz"
      },
      "source": [
        "### Question 5\n",
        "\n",
        "Maximum final price\n",
        "What's the maximum final price of Dell notebooks in the dataset?\n",
        "\n",
        "- 869\n",
        "- 3691\n",
        "- 3849\n",
        "- 3936"
      ]
    },
    {
      "cell_type": "code",
      "execution_count": 18,
      "metadata": {
        "colab": {
          "base_uri": "https://localhost:8080/"
        },
        "id": "U_-vm00BFOIL",
        "outputId": "5377339a-2a86-46c5-a27b-9185fa93355a"
      },
      "outputs": [
        {
          "name": "stdout",
          "output_type": "stream",
          "text": [
            "3936.0\n"
          ]
        }
      ],
      "source": [
        "# Filter rows where the manufacturer is 'Dell' and find the maximum final price\n",
        "dell_laptops = df_laptops[df_laptops['Brand'] == 'Dell']\n",
        "max_dell_price = dell_laptops['Final Price'].max()\n",
        "\n",
        "print(max_dell_price)"
      ]
    },
    {
      "cell_type": "markdown",
      "metadata": {
        "id": "7vwL1daZFjXr"
      },
      "source": [
        "### Question 6. Median value of Screen\n",
        "\n",
        "1. Find the median value of `Screen` column in the dataset.\n",
        "2. Next, calculate the most frequent value of the same `Screen` column.\n",
        "3. Use `fillna` method to fill the missing values in `Screen` column with the most frequent value from the previous step.\n",
        "4. Now, calculate the median value of `Screen` once again.\n",
        "\n",
        "Has it changed?\n",
        "'Hint: refer to existing `mode` and `median` functions to complete the task.'\n",
        "\n",
        "Yes                \n",
        "No"
      ]
    },
    {
      "cell_type": "code",
      "execution_count": 19,
      "metadata": {
        "colab": {
          "base_uri": "https://localhost:8080/"
        },
        "id": "5Sc_UC4_Fr7j",
        "outputId": "ee7f12be-02f8-4185-e7c7-87c60d9666c7"
      },
      "outputs": [],
      "source": [
        "# 1. Find the median value of the 'Screen' column\n",
        "screen_median_before = df_laptops['Screen'].median()"
      ]
    },
    {
      "cell_type": "code",
      "execution_count": 20,
      "metadata": {},
      "outputs": [],
      "source": [
        "# 2. Calculate the most frequent value (mode) of the 'Screen' column\n",
        "screen_mode = df_laptops['Screen'].mode()[0]"
      ]
    },
    {
      "cell_type": "code",
      "execution_count": 21,
      "metadata": {},
      "outputs": [
        {
          "name": "stderr",
          "output_type": "stream",
          "text": [
            "C:\\Users\\Daiyaan\\AppData\\Local\\Temp\\ipykernel_1448\\848438480.py:2: FutureWarning: A value is trying to be set on a copy of a DataFrame or Series through chained assignment using an inplace method.\n",
            "The behavior will change in pandas 3.0. This inplace method will never work because the intermediate object on which we are setting values always behaves as a copy.\n",
            "\n",
            "For example, when doing 'df[col].method(value, inplace=True)', try using 'df.method({col: value}, inplace=True)' or df[col] = df[col].method(value) instead, to perform the operation inplace on the original object.\n",
            "\n",
            "\n",
            "  df_laptops['Screen'].fillna(screen_mode, inplace=True)\n"
          ]
        }
      ],
      "source": [
        "# 3. Use 'fillna' to fill missing values in the 'Screen' column with the most frequent value\n",
        "df_laptops['Screen'].fillna(screen_mode, inplace=True)"
      ]
    },
    {
      "cell_type": "code",
      "execution_count": 22,
      "metadata": {},
      "outputs": [],
      "source": [
        "# 4. Calculate the median value of 'Screen' again after filling missing values\n",
        "screen_median_after = df_laptops['Screen'].median()"
      ]
    },
    {
      "cell_type": "code",
      "execution_count": 24,
      "metadata": {},
      "outputs": [
        {
          "data": {
            "text/plain": [
              "(15.6, 15.6, False)"
            ]
          },
          "execution_count": 24,
          "metadata": {},
          "output_type": "execute_result"
        }
      ],
      "source": [
        "# Check if the median has changed\n",
        "screen_median_before, screen_median_after, screen_median_before != screen_median_after"
      ]
    },
    {
      "cell_type": "markdown",
      "metadata": {
        "id": "U2uX_amuGE20"
      },
      "source": [
        "### Question 7. Sum of weights\n",
        "\n",
        "1. Select all the \"Innjoo\" laptops from the dataset.\n",
        "2. Select only columns `RAM`, `Storage`, `Screen`.\n",
        "3. Get the underlying NumPy array. Let's call it `X`.\n",
        "4. Compute matrix-matrix multiplication between the transpose of `X` and `X`. To get the transpose, use `X.T`. Let's call the result `XTX`.\n",
        "5. Compute the inverse of `XTX`.\n",
        "6. Create an array `y` with values `[1100, 1300, 800, 900, 1000, 1100]`.\n",
        "7. Multiply the inverse of `XTX` with the transpose of `X`, and then multiply the result by `y`. Call the result `w`.\n",
        "8. What's the sum of all the elements of the result?\n",
        "\n",
        "> Note: You just implemented linear regression. We'll talk about it in the next lesson.\n",
        "\n",
        "- 0.43\n",
        "- 45.29\n",
        "- 45.58\n",
        "- 91.30"
      ]
    },
    {
      "cell_type": "code",
      "execution_count": 26,
      "metadata": {
        "colab": {
          "base_uri": "https://localhost:8080/"
        },
        "id": "nbX0MDZLGFpy",
        "outputId": "e252c9a9-fb82-4aca-f1f1-45b3dfb0d1d8"
      },
      "outputs": [],
      "source": [
        "# Step 1: Select all \"Innjoo\" laptops\n",
        "innjoo_laptops = df_laptops[df_laptops['Brand'] == 'Innjoo']"
      ]
    },
    {
      "cell_type": "code",
      "execution_count": 27,
      "metadata": {
        "colab": {
          "base_uri": "https://localhost:8080/"
        },
        "id": "csalN6VCGW3C",
        "outputId": "32b33500-911a-403d-85f5-8f7c077adca8"
      },
      "outputs": [],
      "source": [
        "# Step 2: Select only columns 'RAM', 'Storage', 'Screen'\n",
        "innjoo_laptops_selected = innjoo_laptops[['RAM', 'Storage', 'Screen']]"
      ]
    },
    {
      "cell_type": "code",
      "execution_count": 28,
      "metadata": {
        "colab": {
          "base_uri": "https://localhost:8080/"
        },
        "id": "0jqYb90xGh2r",
        "outputId": "843a1ad2-f9e3-4f80-9d7b-cfc71f189b37"
      },
      "outputs": [],
      "source": [
        "# Step 3: Get the underlying NumPy array\n",
        "X = innjoo_laptops_selected.to_numpy()"
      ]
    },
    {
      "cell_type": "code",
      "execution_count": 29,
      "metadata": {
        "id": "NpEIgrH5Gpjp"
      },
      "outputs": [],
      "source": [
        "# Step 4: Compute matrix-matrix multiplication X.T @ X\n",
        "XTX = X.T @ X"
      ]
    },
    {
      "cell_type": "code",
      "execution_count": 30,
      "metadata": {},
      "outputs": [],
      "source": [
        "# Step 5: Compute the inverse of XTX\n",
        "XTX_inv = np.linalg.inv(XTX)"
      ]
    },
    {
      "cell_type": "code",
      "execution_count": 31,
      "metadata": {},
      "outputs": [],
      "source": [
        "# Step 6: Create an array y\n",
        "y = np.array([1100, 1300, 800, 900, 1000, 1100])"
      ]
    },
    {
      "cell_type": "code",
      "execution_count": 32,
      "metadata": {},
      "outputs": [],
      "source": [
        "# Step 7: Multiply the inverse of XTX with the transpose of X, and then multiply by y\n",
        "w = XTX_inv @ X.T @ y"
      ]
    },
    {
      "cell_type": "code",
      "execution_count": 33,
      "metadata": {},
      "outputs": [
        {
          "data": {
            "text/plain": [
              "91.29988062995588"
            ]
          },
          "execution_count": 33,
          "metadata": {},
          "output_type": "execute_result"
        }
      ],
      "source": [
        "# Step 8: Calculate the sum of all elements of the result\n",
        "result_sum = np.sum(w)\n",
        "result_sum"
      ]
    }
  ],
  "metadata": {
    "colab": {
      "provenance": []
    },
    "kernelspec": {
      "display_name": "Python 3",
      "name": "python3"
    },
    "language_info": {
      "codemirror_mode": {
        "name": "ipython",
        "version": 3
      },
      "file_extension": ".py",
      "mimetype": "text/x-python",
      "name": "python",
      "nbconvert_exporter": "python",
      "pygments_lexer": "ipython3",
      "version": "3.12.2"
    }
  },
  "nbformat": 4,
  "nbformat_minor": 0
}
