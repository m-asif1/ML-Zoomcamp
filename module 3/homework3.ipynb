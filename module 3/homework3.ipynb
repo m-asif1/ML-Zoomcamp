{
  "cells": [
    {
      "cell_type": "markdown",
      "metadata": {
        "id": "5l4YzRjeM7kk"
      },
      "source": [
        "### `Homework3: Classification`\n",
        "\n",
        "### Dataset\n",
        "\n",
        "In this homework, we will use the Bank Marketing dataset. Download it from [here](https://archive.ics.uci.edu/static/public/222/bank+marketing.zip).\n",
        "\n",
        "Or you can do it with `wget`:\n",
        "\n",
        "```\n",
        "wget https://archive.ics.uci.edu/static/public/222/bank+marketing.zip\n",
        "```\n",
        "\n",
        "We need to take `bank/bank-full.csv` file from the downloaded zip-file.\n",
        "In this dataset our desired target for classification task will be `y` variable - has the client subscribed a term deposit or not."
      ]
    },
    {
      "cell_type": "markdown",
      "metadata": {},
      "source": [
        "### Features\n",
        "\n",
        "For the rest of the homework, you'll need to use only these columns:\n",
        "\n",
        "* `age`,\n",
        "* `job`,\n",
        "* `marital`,\n",
        "* `education`,\n",
        "* `balance`,\n",
        "* `housing`,\n",
        "* `contact`,\n",
        "* `day`,\n",
        "* `month`,\n",
        "* `duration`,\n",
        "* `campaign`,\n",
        "* `pdays`,\n",
        "* `previous`,\n",
        "* `poutcome`,\n",
        "* `y`"
      ]
    },
    {
      "cell_type": "markdown",
      "metadata": {},
      "source": [
        "### Data preparation\n",
        "\n",
        "* Select only the features from above.\n",
        "* Check if the missing values are presented in the features."
      ]
    },
    {
      "cell_type": "code",
      "execution_count": 1,
      "metadata": {
        "id": "2MjONibZANFj"
      },
      "outputs": [],
      "source": [
        "import numpy as np\n",
        "import pandas as pd\n",
        "import matplotlib.pyplot as plt\n",
        "import seaborn as sns"
      ]
    },
    {
      "cell_type": "markdown",
      "metadata": {
        "id": "eSKs6H_gOOro"
      },
      "source": [
        "### **Getting the data**"
      ]
    },
    {
      "cell_type": "code",
      "execution_count": 43,
      "metadata": {
        "colab": {
          "base_uri": "https://localhost:8080/"
        },
        "id": "mVUWnHiwORdN",
        "outputId": "7aa205eb-f947-4e53-bc9f-da5d2569c045"
      },
      "outputs": [
        {
          "name": "stderr",
          "output_type": "stream",
          "text": [
            "--2024-10-15 15:35:07--  https://archive.ics.uci.edu/static/public/222/bank+marketing.zip\n",
            "Resolving archive.ics.uci.edu (archive.ics.uci.edu)... 128.195.10.252\n",
            "Connecting to archive.ics.uci.edu (archive.ics.uci.edu)|128.195.10.252|:443... connected.\n",
            "HTTP request sent, awaiting response... 200 OK\n",
            "Length: unspecified\n",
            "Saving to: './bank+marketing.zip'\n",
            "\n",
            "     0K .......... .......... .......... .......... .......... 82.9K\n",
            "    50K .......... .......... .......... .......... ..........  150K\n",
            "   100K .......... .......... .......... .......... ..........  143K\n",
            "   150K .......... .......... .......... .......... .......... 86.7K\n",
            "   200K .......... .......... .......... .......... ..........  171K\n",
            "   250K .......... .......... .......... .......... .......... 52.7K\n",
            "   300K .......... .......... .......... .......... .......... 50.7K\n",
            "   350K .......... .......... .......... .......... .......... 33.6K\n",
            "   400K .......... .......... .......... .......... .......... 22.5K\n",
            "   450K .......... .......... .......... .......... .......... 19.3K\n",
            "   500K .......... .......... .......... .......... .......... 12.8K\n",
            "   550K .......... .......... .......... .......... .......... 16.1K\n",
            "   600K .......... .......... .......... .......... .......... 20.8K\n",
            "   650K .......... .......... .......... .......... .......... 33.7K\n",
            "   700K .......... .......... .......... .......... .......... 33.9K\n",
            "   750K .......... .......... .......... .......... .......... 12.7K\n",
            "   800K .......... .......... .......... .......... .......... 16.8K\n",
            "   850K .......... .......... .......... .......... .......... 13.1K\n",
            "   900K .......... .......... .......... .......... .......... 12.8K\n",
            "   950K .......... .......... .......... .......... .........  14.0K=41s\n",
            "\n",
            "2024-10-15 15:35:50 (24.4 KB/s) - './bank+marketing.zip' saved [1023843]\n",
            "\n",
            "'unzip' is not recognized as an internal or external command,\n",
            "operable program or batch file.\n",
            "'unzip' is not recognized as an internal or external command,\n",
            "operable program or batch file.\n"
          ]
        }
      ],
      "source": [
        "data = 'https://archive.ics.uci.edu/static/public/222/bank+marketing.zip'\n",
        "!wget $data -O bank-full.csv \n",
        "#!wget $data -O ./bank+marketing.zip\n",
        "#!unzip ./bank+marketing.zip -d \n",
        "#!unzip ./bank.zip -d "
      ]
    },
    {
      "cell_type": "markdown",
      "metadata": {
        "id": "g_y3K98RSUsZ"
      },
      "source": [
        "### Question 1\n",
        "\n",
        "What is the most frequent observation (mode) for the column `education`?\n",
        "\n",
        "- `unknown`\n",
        "- `primary`\n",
        "- `secondary`\n",
        "- `tertiary`"
      ]
    },
    {
      "cell_type": "code",
      "execution_count": 2,
      "metadata": {},
      "outputs": [
        {
          "data": {
            "text/html": [
              "<div>\n",
              "<style scoped>\n",
              "    .dataframe tbody tr th:only-of-type {\n",
              "        vertical-align: middle;\n",
              "    }\n",
              "\n",
              "    .dataframe tbody tr th {\n",
              "        vertical-align: top;\n",
              "    }\n",
              "\n",
              "    .dataframe thead th {\n",
              "        text-align: right;\n",
              "    }\n",
              "</style>\n",
              "<table border=\"1\" class=\"dataframe\">\n",
              "  <thead>\n",
              "    <tr style=\"text-align: right;\">\n",
              "      <th></th>\n",
              "      <th>age</th>\n",
              "      <th>job</th>\n",
              "      <th>marital</th>\n",
              "      <th>education</th>\n",
              "      <th>default</th>\n",
              "      <th>balance</th>\n",
              "      <th>housing</th>\n",
              "      <th>loan</th>\n",
              "      <th>contact</th>\n",
              "      <th>day</th>\n",
              "      <th>month</th>\n",
              "      <th>duration</th>\n",
              "      <th>campaign</th>\n",
              "      <th>pdays</th>\n",
              "      <th>previous</th>\n",
              "      <th>poutcome</th>\n",
              "      <th>y</th>\n",
              "    </tr>\n",
              "  </thead>\n",
              "  <tbody>\n",
              "    <tr>\n",
              "      <th>0</th>\n",
              "      <td>58</td>\n",
              "      <td>management</td>\n",
              "      <td>married</td>\n",
              "      <td>tertiary</td>\n",
              "      <td>no</td>\n",
              "      <td>2143</td>\n",
              "      <td>yes</td>\n",
              "      <td>no</td>\n",
              "      <td>unknown</td>\n",
              "      <td>5</td>\n",
              "      <td>may</td>\n",
              "      <td>261</td>\n",
              "      <td>1</td>\n",
              "      <td>-1</td>\n",
              "      <td>0</td>\n",
              "      <td>unknown</td>\n",
              "      <td>no</td>\n",
              "    </tr>\n",
              "    <tr>\n",
              "      <th>1</th>\n",
              "      <td>44</td>\n",
              "      <td>technician</td>\n",
              "      <td>single</td>\n",
              "      <td>secondary</td>\n",
              "      <td>no</td>\n",
              "      <td>29</td>\n",
              "      <td>yes</td>\n",
              "      <td>no</td>\n",
              "      <td>unknown</td>\n",
              "      <td>5</td>\n",
              "      <td>may</td>\n",
              "      <td>151</td>\n",
              "      <td>1</td>\n",
              "      <td>-1</td>\n",
              "      <td>0</td>\n",
              "      <td>unknown</td>\n",
              "      <td>no</td>\n",
              "    </tr>\n",
              "    <tr>\n",
              "      <th>2</th>\n",
              "      <td>33</td>\n",
              "      <td>entrepreneur</td>\n",
              "      <td>married</td>\n",
              "      <td>secondary</td>\n",
              "      <td>no</td>\n",
              "      <td>2</td>\n",
              "      <td>yes</td>\n",
              "      <td>yes</td>\n",
              "      <td>unknown</td>\n",
              "      <td>5</td>\n",
              "      <td>may</td>\n",
              "      <td>76</td>\n",
              "      <td>1</td>\n",
              "      <td>-1</td>\n",
              "      <td>0</td>\n",
              "      <td>unknown</td>\n",
              "      <td>no</td>\n",
              "    </tr>\n",
              "    <tr>\n",
              "      <th>3</th>\n",
              "      <td>47</td>\n",
              "      <td>blue-collar</td>\n",
              "      <td>married</td>\n",
              "      <td>unknown</td>\n",
              "      <td>no</td>\n",
              "      <td>1506</td>\n",
              "      <td>yes</td>\n",
              "      <td>no</td>\n",
              "      <td>unknown</td>\n",
              "      <td>5</td>\n",
              "      <td>may</td>\n",
              "      <td>92</td>\n",
              "      <td>1</td>\n",
              "      <td>-1</td>\n",
              "      <td>0</td>\n",
              "      <td>unknown</td>\n",
              "      <td>no</td>\n",
              "    </tr>\n",
              "    <tr>\n",
              "      <th>4</th>\n",
              "      <td>33</td>\n",
              "      <td>unknown</td>\n",
              "      <td>single</td>\n",
              "      <td>unknown</td>\n",
              "      <td>no</td>\n",
              "      <td>1</td>\n",
              "      <td>no</td>\n",
              "      <td>no</td>\n",
              "      <td>unknown</td>\n",
              "      <td>5</td>\n",
              "      <td>may</td>\n",
              "      <td>198</td>\n",
              "      <td>1</td>\n",
              "      <td>-1</td>\n",
              "      <td>0</td>\n",
              "      <td>unknown</td>\n",
              "      <td>no</td>\n",
              "    </tr>\n",
              "  </tbody>\n",
              "</table>\n",
              "</div>"
            ],
            "text/plain": [
              "   age           job  marital  education default  balance housing loan  \\\n",
              "0   58    management  married   tertiary      no     2143     yes   no   \n",
              "1   44    technician   single  secondary      no       29     yes   no   \n",
              "2   33  entrepreneur  married  secondary      no        2     yes  yes   \n",
              "3   47   blue-collar  married    unknown      no     1506     yes   no   \n",
              "4   33       unknown   single    unknown      no        1      no   no   \n",
              "\n",
              "   contact  day month  duration  campaign  pdays  previous poutcome   y  \n",
              "0  unknown    5   may       261         1     -1         0  unknown  no  \n",
              "1  unknown    5   may       151         1     -1         0  unknown  no  \n",
              "2  unknown    5   may        76         1     -1         0  unknown  no  \n",
              "3  unknown    5   may        92         1     -1         0  unknown  no  \n",
              "4  unknown    5   may       198         1     -1         0  unknown  no  "
            ]
          },
          "execution_count": 2,
          "metadata": {},
          "output_type": "execute_result"
        }
      ],
      "source": [
        "df = pd.read_csv(\"bank-full.csv\", sep=\";\")\n",
        "df.head()"
      ]
    },
    {
      "cell_type": "code",
      "execution_count": 3,
      "metadata": {
        "colab": {
          "base_uri": "https://localhost:8080/"
        },
        "id": "OIUAG1TwBSD1",
        "outputId": "0d625fa6-2c9f-4f21-c5dd-cdcf24716946"
      },
      "outputs": [
        {
          "data": {
            "text/plain": [
              "Index(['age', 'job', 'marital', 'education', 'default', 'balance', 'housing',\n",
              "       'loan', 'contact', 'day', 'month', 'duration', 'campaign', 'pdays',\n",
              "       'previous', 'poutcome', 'y'],\n",
              "      dtype='object')"
            ]
          },
          "execution_count": 3,
          "metadata": {},
          "output_type": "execute_result"
        }
      ],
      "source": [
        "df.columns"
      ]
    },
    {
      "cell_type": "code",
      "execution_count": 4,
      "metadata": {},
      "outputs": [],
      "source": [
        "# Check for missing values\n",
        "missing_values = df.isnull().sum()"
      ]
    },
    {
      "cell_type": "code",
      "execution_count": 5,
      "metadata": {},
      "outputs": [],
      "source": [
        "# Calculate the mode for the 'education' column\n",
        "education_mode = df['education'].mode()[0]"
      ]
    },
    {
      "cell_type": "code",
      "execution_count": 6,
      "metadata": {},
      "outputs": [
        {
          "name": "stdout",
          "output_type": "stream",
          "text": [
            "The most frequent observation (mode) for the column 'education' is: secondary\n"
          ]
        }
      ],
      "source": [
        "# Display the most frequent observation (mode)\n",
        "print(\"The most frequent observation (mode) for the column 'education' is:\", education_mode)"
      ]
    },
    {
      "cell_type": "markdown",
      "metadata": {
        "id": "4-u5NdrbTrcN"
      },
      "source": [
        "### Question 2\n",
        "\n",
        "Create the [correlation matrix](https://www.google.com/search?q=correlation+matrix) for the numerical features of your dataset. \n",
        "In a correlation matrix, you compute the correlation coefficient between every pair of features.\n",
        "\n",
        "What are the two features that have the biggest correlation?\n",
        "\n",
        "- `age` and `balance`\n",
        "- `day` and `campaign`\n",
        "- `day` and `pdays`\n",
        "- `pdays` and `previous`\n",
        "\n",
        "\n",
        "### Target encoding\n",
        "\n",
        "* Now we want to encode the `y` variable.\n",
        "* Let's replace the values `yes`/`no` with `1`/`0`.\n",
        "\n",
        "### Split the data\n",
        "\n",
        "* Split your data in train/val/test sets with 60%/20%/20% distribution.\n",
        "* Use Scikit-Learn for that (the `train_test_split` function) and set the seed to `42`.\n",
        "* Make sure that the target value `y` is not in your dataframe.\n",
        "\n",
        "\n"
      ]
    },
    {
      "cell_type": "code",
      "execution_count": 7,
      "metadata": {},
      "outputs": [],
      "source": [
        "# Select the specified features\n",
        "features = [\n",
        "    'age', 'job', 'marital', 'education', 'balance', 'housing', \n",
        "    'contact', 'day', 'month', 'duration', 'campaign', \n",
        "    'pdays', 'previous', 'poutcome', 'y'\n",
        "]\n",
        "data_selected = df[features]"
      ]
    },
    {
      "cell_type": "code",
      "execution_count": 8,
      "metadata": {},
      "outputs": [
        {
          "name": "stderr",
          "output_type": "stream",
          "text": [
            "C:\\Users\\Daiyaan\\AppData\\Local\\Temp\\ipykernel_9844\\2693294120.py:2: FutureWarning: Downcasting behavior in `replace` is deprecated and will be removed in a future version. To retain the old behavior, explicitly call `result.infer_objects(copy=False)`. To opt-in to the future behavior, set `pd.set_option('future.no_silent_downcasting', True)`\n",
            "  data_selected['y'] = data_selected['y'].replace({'yes': 1, 'no': 0})\n",
            "C:\\Users\\Daiyaan\\AppData\\Local\\Temp\\ipykernel_9844\\2693294120.py:2: SettingWithCopyWarning: \n",
            "A value is trying to be set on a copy of a slice from a DataFrame.\n",
            "Try using .loc[row_indexer,col_indexer] = value instead\n",
            "\n",
            "See the caveats in the documentation: https://pandas.pydata.org/pandas-docs/stable/user_guide/indexing.html#returning-a-view-versus-a-copy\n",
            "  data_selected['y'] = data_selected['y'].replace({'yes': 1, 'no': 0})\n"
          ]
        }
      ],
      "source": [
        "# Encode the target variable 'y'\n",
        "data_selected['y'] = data_selected['y'].replace({'yes': 1, 'no': 0})"
      ]
    },
    {
      "cell_type": "code",
      "execution_count": 9,
      "metadata": {},
      "outputs": [],
      "source": [
        "# Select only numeric features for correlation\n",
        "numeric_features = data_selected.select_dtypes(include=[np.number])"
      ]
    },
    {
      "cell_type": "code",
      "execution_count": 10,
      "metadata": {
        "id": "YU-C1ytkUmTF"
      },
      "outputs": [],
      "source": [
        "# Create a correlation matrix for numerical features\n",
        "correlation_matrix = numeric_features.corr()"
      ]
    },
    {
      "cell_type": "code",
      "execution_count": 11,
      "metadata": {},
      "outputs": [
        {
          "name": "stdout",
          "output_type": "stream",
          "text": [
            "Correlation Matrix:\n",
            "               age   balance       day  duration  campaign     pdays  \\\n",
            "age       1.000000  0.097783 -0.009120 -0.004648  0.004760 -0.023758   \n",
            "balance   0.097783  1.000000  0.004503  0.021560 -0.014578  0.003435   \n",
            "day      -0.009120  0.004503  1.000000 -0.030206  0.162490 -0.093044   \n",
            "duration -0.004648  0.021560 -0.030206  1.000000 -0.084570 -0.001565   \n",
            "campaign  0.004760 -0.014578  0.162490 -0.084570  1.000000 -0.088628   \n",
            "pdays    -0.023758  0.003435 -0.093044 -0.001565 -0.088628  1.000000   \n",
            "previous  0.001288  0.016674 -0.051710  0.001203 -0.032855  0.454820   \n",
            "y         0.025155  0.052838 -0.028348  0.394521 -0.073172  0.103621   \n",
            "\n",
            "          previous         y  \n",
            "age       0.001288  0.025155  \n",
            "balance   0.016674  0.052838  \n",
            "day      -0.051710 -0.028348  \n",
            "duration  0.001203  0.394521  \n",
            "campaign -0.032855 -0.073172  \n",
            "pdays     0.454820  0.103621  \n",
            "previous  1.000000  0.093236  \n",
            "y         0.093236  1.000000  \n"
          ]
        }
      ],
      "source": [
        "# Display the correlation matrix\n",
        "print(\"Correlation Matrix:\")\n",
        "print(correlation_matrix)"
      ]
    },
    {
      "cell_type": "code",
      "execution_count": 12,
      "metadata": {},
      "outputs": [
        {
          "name": "stdout",
          "output_type": "stream",
          "text": [
            "\n",
            "The two features with the biggest correlation are: ('pdays', 'previous')\n"
          ]
        }
      ],
      "source": [
        "# Find the two features with the biggest correlation (excluding the target variable 'y')\n",
        "correlation_upper = correlation_matrix.where(np.triu(np.ones(correlation_matrix.shape), k=1).astype(bool))\n",
        "max_corr_value = correlation_upper.max().max()\n",
        "max_corr_features = correlation_upper.stack().idxmax()\n",
        "\n",
        "print(\"\\nThe two features with the biggest correlation are:\", max_corr_features)"
      ]
    },
    {
      "cell_type": "code",
      "execution_count": 13,
      "metadata": {},
      "outputs": [],
      "source": [
        "from sklearn.model_selection import train_test_split"
      ]
    },
    {
      "cell_type": "code",
      "execution_count": 14,
      "metadata": {
        "colab": {
          "base_uri": "https://localhost:8080/"
        },
        "id": "XELBdNGeTsco",
        "outputId": "42bc86a0-956d-48b2-b874-1214ee9c5b2a"
      },
      "outputs": [],
      "source": [
        "# Split the data into train, validation, and test sets (60%/20%/20%)\n",
        "train, temp = train_test_split(data_selected, test_size=0.4, random_state=42)\n",
        "val, test = train_test_split(temp, test_size=0.5, random_state=42)"
      ]
    },
    {
      "cell_type": "code",
      "execution_count": 15,
      "metadata": {},
      "outputs": [
        {
          "name": "stdout",
          "output_type": "stream",
          "text": [
            "\n",
            "Train set size: (27126, 15)\n",
            "Validation set size: (9042, 15)\n",
            "Test set size: (9043, 15)\n"
          ]
        }
      ],
      "source": [
        "# Display the sizes of the datasets\n",
        "print(\"\\nTrain set size:\", train.shape)\n",
        "print(\"Validation set size:\", val.shape)\n",
        "print(\"Test set size:\", test.shape)"
      ]
    },
    {
      "cell_type": "code",
      "execution_count": 16,
      "metadata": {},
      "outputs": [
        {
          "name": "stdout",
          "output_type": "stream",
          "text": [
            "\n",
            "Train set target (y) in features: True\n",
            "Validation set target (y) in features: True\n",
            "Test set target (y) in features: True\n"
          ]
        }
      ],
      "source": [
        "# the target value y is not in the train, validation, or test datasets\n",
        "print(\"\\nTrain set target (y) in features:\", 'y' in train.columns)\n",
        "print(\"Validation set target (y) in features:\", 'y' in val.columns)\n",
        "print(\"Test set target (y) in features:\", 'y' in test.columns)"
      ]
    },
    {
      "cell_type": "markdown",
      "metadata": {
        "id": "6ywZ0t4zWaSz"
      },
      "source": [
        "### Question 3\n",
        "\n",
        "* Calculate the mutual information score between `y` and other categorical variables in the dataset. Use the training set only.\n",
        "* Round the scores to 2 decimals using `round(score, 2)`.\n",
        "\n",
        "Which of these variables has the biggest mutual information score?\n",
        "  \n",
        "- `contact`\n",
        "- `education`\n",
        "- `housing`\n",
        "- `poutcome`"
      ]
    },
    {
      "cell_type": "code",
      "execution_count": 17,
      "metadata": {},
      "outputs": [],
      "source": [
        "from sklearn.feature_selection import mutual_info_classif"
      ]
    },
    {
      "cell_type": "code",
      "execution_count": 18,
      "metadata": {
        "id": "ECbEqhdkWbiB"
      },
      "outputs": [],
      "source": [
        "# Selecting categorical features from the training set (excluding the target variable 'y')\n",
        "categorical_features = ['job', 'marital', 'education', 'contact', 'housing', 'poutcome']"
      ]
    },
    {
      "cell_type": "code",
      "execution_count": 19,
      "metadata": {},
      "outputs": [],
      "source": [
        "# Calculate the mutual information score between 'y' and other categorical variables\n",
        "X_train = train[categorical_features]\n",
        "y_train = train['y']"
      ]
    },
    {
      "cell_type": "code",
      "execution_count": 20,
      "metadata": {
        "colab": {
          "base_uri": "https://localhost:8080/"
        },
        "id": "oXMYzeGFWjgs",
        "outputId": "a4832897-80f8-4f2c-c5eb-1d46b7b932ab"
      },
      "outputs": [],
      "source": [
        "# Convert categorical variables to numeric using one-hot encoding\n",
        "X_train_encoded = pd.get_dummies(X_train, drop_first=True)"
      ]
    },
    {
      "cell_type": "code",
      "execution_count": 21,
      "metadata": {
        "colab": {
          "base_uri": "https://localhost:8080/"
        },
        "id": "8ruY_8pzWuDp",
        "outputId": "318bfd0b-5e16-48ee-a5e8-933ec4c03091"
      },
      "outputs": [],
      "source": [
        "# Calculate mutual information scores\n",
        "mutual_info_scores = mutual_info_classif(X_train_encoded, y_train, discrete_features=True)"
      ]
    },
    {
      "cell_type": "code",
      "execution_count": 22,
      "metadata": {
        "id": "BH1dum4jW5GK"
      },
      "outputs": [],
      "source": [
        "# Create a DataFrame for better visualization of scores\n",
        "mutual_info_df = pd.DataFrame({'Feature': X_train_encoded.columns, 'Mutual Information Score': mutual_info_scores})"
      ]
    },
    {
      "cell_type": "code",
      "execution_count": 23,
      "metadata": {
        "colab": {
          "base_uri": "https://localhost:8080/"
        },
        "id": "5ADRciWkW7iZ",
        "outputId": "1141e51d-cadf-4a80-d0d1-4299146b4b11"
      },
      "outputs": [],
      "source": [
        "# Round the scores to 2 decimals\n",
        "mutual_info_df['Mutual Information Score'] = mutual_info_df['Mutual Information Score'].round(2)"
      ]
    },
    {
      "cell_type": "code",
      "execution_count": 24,
      "metadata": {},
      "outputs": [
        {
          "name": "stdout",
          "output_type": "stream",
          "text": [
            "Mutual Information Scores:\n",
            "                Feature  Mutual Information Score\n",
            "0       job_blue-collar                      0.00\n",
            "1      job_entrepreneur                      0.00\n",
            "2         job_housemaid                      0.00\n",
            "3        job_management                      0.00\n",
            "4           job_retired                      0.00\n",
            "5     job_self-employed                      0.00\n",
            "6          job_services                      0.00\n",
            "7           job_student                      0.00\n",
            "8        job_technician                      0.00\n",
            "9        job_unemployed                      0.00\n",
            "10          job_unknown                      0.00\n",
            "11      marital_married                      0.00\n",
            "12       marital_single                      0.00\n",
            "13  education_secondary                      0.00\n",
            "14   education_tertiary                      0.00\n",
            "15    education_unknown                      0.00\n",
            "16    contact_telephone                      0.00\n",
            "17      contact_unknown                      0.01\n",
            "18          housing_yes                      0.01\n",
            "19       poutcome_other                      0.00\n",
            "20     poutcome_success                      0.03\n",
            "21     poutcome_unknown                      0.01\n"
          ]
        }
      ],
      "source": [
        "# Display the mutual information scores\n",
        "print(\"Mutual Information Scores:\")\n",
        "print(mutual_info_df)"
      ]
    },
    {
      "cell_type": "code",
      "execution_count": 25,
      "metadata": {},
      "outputs": [
        {
          "data": {
            "text/plain": [
              "Feature                     poutcome_success\n",
              "Mutual Information Score                0.03\n",
              "Name: 20, dtype: object"
            ]
          },
          "execution_count": 25,
          "metadata": {},
          "output_type": "execute_result"
        }
      ],
      "source": [
        "# Find the variable with the biggest mutual information score\n",
        "max_score_feature = mutual_info_df.loc[mutual_info_df['Mutual Information Score'].idxmax()]\n",
        "max_score_feature "
      ]
    },
    {
      "cell_type": "markdown",
      "metadata": {
        "id": "HSKGggA4XgVh"
      },
      "source": [
        "### Question 4\n",
        "\n",
        "* Now let's train a logistic regression.\n",
        "* Remember that we have several categorical variables in the dataset. Include them using one-hot encoding.\n",
        "* Fit the model on the training dataset.\n",
        "    - To make sure the results are reproducible across different versions of Scikit-Learn, fit the model with these parameters:\n",
        "    - `model = LogisticRegression(solver='liblinear', C=1.0, max_iter=1000, random_state=42)`\n",
        "* Calculate the accuracy on the validation dataset and round it to 2 decimal digits.\n",
        "\n",
        "What accuracy did you get?\n",
        "\n",
        "- 0.6\n",
        "- 0.7\n",
        "- 0.8\n",
        "- 0.9\n"
      ]
    },
    {
      "cell_type": "code",
      "execution_count": 26,
      "metadata": {
        "id": "Rys4rQJJXhWv"
      },
      "outputs": [],
      "source": [
        "from sklearn.linear_model import LogisticRegression\n",
        "from sklearn.metrics import accuracy_score"
      ]
    },
    {
      "cell_type": "code",
      "execution_count": 27,
      "metadata": {
        "id": "TlyMwI8vXuba"
      },
      "outputs": [],
      "source": [
        "# Create one-hot encoded features for the training dataset\n",
        "X_train_encoded = pd.get_dummies(train[categorical_features], drop_first=True)"
      ]
    },
    {
      "cell_type": "code",
      "execution_count": 28,
      "metadata": {
        "id": "5_mRxq1sX3pI"
      },
      "outputs": [
        {
          "data": {
            "text/html": [
              "<style>#sk-container-id-1 {\n",
              "  /* Definition of color scheme common for light and dark mode */\n",
              "  --sklearn-color-text: black;\n",
              "  --sklearn-color-line: gray;\n",
              "  /* Definition of color scheme for unfitted estimators */\n",
              "  --sklearn-color-unfitted-level-0: #fff5e6;\n",
              "  --sklearn-color-unfitted-level-1: #f6e4d2;\n",
              "  --sklearn-color-unfitted-level-2: #ffe0b3;\n",
              "  --sklearn-color-unfitted-level-3: chocolate;\n",
              "  /* Definition of color scheme for fitted estimators */\n",
              "  --sklearn-color-fitted-level-0: #f0f8ff;\n",
              "  --sklearn-color-fitted-level-1: #d4ebff;\n",
              "  --sklearn-color-fitted-level-2: #b3dbfd;\n",
              "  --sklearn-color-fitted-level-3: cornflowerblue;\n",
              "\n",
              "  /* Specific color for light theme */\n",
              "  --sklearn-color-text-on-default-background: var(--sg-text-color, var(--theme-code-foreground, var(--jp-content-font-color1, black)));\n",
              "  --sklearn-color-background: var(--sg-background-color, var(--theme-background, var(--jp-layout-color0, white)));\n",
              "  --sklearn-color-border-box: var(--sg-text-color, var(--theme-code-foreground, var(--jp-content-font-color1, black)));\n",
              "  --sklearn-color-icon: #696969;\n",
              "\n",
              "  @media (prefers-color-scheme: dark) {\n",
              "    /* Redefinition of color scheme for dark theme */\n",
              "    --sklearn-color-text-on-default-background: var(--sg-text-color, var(--theme-code-foreground, var(--jp-content-font-color1, white)));\n",
              "    --sklearn-color-background: var(--sg-background-color, var(--theme-background, var(--jp-layout-color0, #111)));\n",
              "    --sklearn-color-border-box: var(--sg-text-color, var(--theme-code-foreground, var(--jp-content-font-color1, white)));\n",
              "    --sklearn-color-icon: #878787;\n",
              "  }\n",
              "}\n",
              "\n",
              "#sk-container-id-1 {\n",
              "  color: var(--sklearn-color-text);\n",
              "}\n",
              "\n",
              "#sk-container-id-1 pre {\n",
              "  padding: 0;\n",
              "}\n",
              "\n",
              "#sk-container-id-1 input.sk-hidden--visually {\n",
              "  border: 0;\n",
              "  clip: rect(1px 1px 1px 1px);\n",
              "  clip: rect(1px, 1px, 1px, 1px);\n",
              "  height: 1px;\n",
              "  margin: -1px;\n",
              "  overflow: hidden;\n",
              "  padding: 0;\n",
              "  position: absolute;\n",
              "  width: 1px;\n",
              "}\n",
              "\n",
              "#sk-container-id-1 div.sk-dashed-wrapped {\n",
              "  border: 1px dashed var(--sklearn-color-line);\n",
              "  margin: 0 0.4em 0.5em 0.4em;\n",
              "  box-sizing: border-box;\n",
              "  padding-bottom: 0.4em;\n",
              "  background-color: var(--sklearn-color-background);\n",
              "}\n",
              "\n",
              "#sk-container-id-1 div.sk-container {\n",
              "  /* jupyter's `normalize.less` sets `[hidden] { display: none; }`\n",
              "     but bootstrap.min.css set `[hidden] { display: none !important; }`\n",
              "     so we also need the `!important` here to be able to override the\n",
              "     default hidden behavior on the sphinx rendered scikit-learn.org.\n",
              "     See: https://github.com/scikit-learn/scikit-learn/issues/21755 */\n",
              "  display: inline-block !important;\n",
              "  position: relative;\n",
              "}\n",
              "\n",
              "#sk-container-id-1 div.sk-text-repr-fallback {\n",
              "  display: none;\n",
              "}\n",
              "\n",
              "div.sk-parallel-item,\n",
              "div.sk-serial,\n",
              "div.sk-item {\n",
              "  /* draw centered vertical line to link estimators */\n",
              "  background-image: linear-gradient(var(--sklearn-color-text-on-default-background), var(--sklearn-color-text-on-default-background));\n",
              "  background-size: 2px 100%;\n",
              "  background-repeat: no-repeat;\n",
              "  background-position: center center;\n",
              "}\n",
              "\n",
              "/* Parallel-specific style estimator block */\n",
              "\n",
              "#sk-container-id-1 div.sk-parallel-item::after {\n",
              "  content: \"\";\n",
              "  width: 100%;\n",
              "  border-bottom: 2px solid var(--sklearn-color-text-on-default-background);\n",
              "  flex-grow: 1;\n",
              "}\n",
              "\n",
              "#sk-container-id-1 div.sk-parallel {\n",
              "  display: flex;\n",
              "  align-items: stretch;\n",
              "  justify-content: center;\n",
              "  background-color: var(--sklearn-color-background);\n",
              "  position: relative;\n",
              "}\n",
              "\n",
              "#sk-container-id-1 div.sk-parallel-item {\n",
              "  display: flex;\n",
              "  flex-direction: column;\n",
              "}\n",
              "\n",
              "#sk-container-id-1 div.sk-parallel-item:first-child::after {\n",
              "  align-self: flex-end;\n",
              "  width: 50%;\n",
              "}\n",
              "\n",
              "#sk-container-id-1 div.sk-parallel-item:last-child::after {\n",
              "  align-self: flex-start;\n",
              "  width: 50%;\n",
              "}\n",
              "\n",
              "#sk-container-id-1 div.sk-parallel-item:only-child::after {\n",
              "  width: 0;\n",
              "}\n",
              "\n",
              "/* Serial-specific style estimator block */\n",
              "\n",
              "#sk-container-id-1 div.sk-serial {\n",
              "  display: flex;\n",
              "  flex-direction: column;\n",
              "  align-items: center;\n",
              "  background-color: var(--sklearn-color-background);\n",
              "  padding-right: 1em;\n",
              "  padding-left: 1em;\n",
              "}\n",
              "\n",
              "\n",
              "/* Toggleable style: style used for estimator/Pipeline/ColumnTransformer box that is\n",
              "clickable and can be expanded/collapsed.\n",
              "- Pipeline and ColumnTransformer use this feature and define the default style\n",
              "- Estimators will overwrite some part of the style using the `sk-estimator` class\n",
              "*/\n",
              "\n",
              "/* Pipeline and ColumnTransformer style (default) */\n",
              "\n",
              "#sk-container-id-1 div.sk-toggleable {\n",
              "  /* Default theme specific background. It is overwritten whether we have a\n",
              "  specific estimator or a Pipeline/ColumnTransformer */\n",
              "  background-color: var(--sklearn-color-background);\n",
              "}\n",
              "\n",
              "/* Toggleable label */\n",
              "#sk-container-id-1 label.sk-toggleable__label {\n",
              "  cursor: pointer;\n",
              "  display: block;\n",
              "  width: 100%;\n",
              "  margin-bottom: 0;\n",
              "  padding: 0.5em;\n",
              "  box-sizing: border-box;\n",
              "  text-align: center;\n",
              "}\n",
              "\n",
              "#sk-container-id-1 label.sk-toggleable__label-arrow:before {\n",
              "  /* Arrow on the left of the label */\n",
              "  content: \"▸\";\n",
              "  float: left;\n",
              "  margin-right: 0.25em;\n",
              "  color: var(--sklearn-color-icon);\n",
              "}\n",
              "\n",
              "#sk-container-id-1 label.sk-toggleable__label-arrow:hover:before {\n",
              "  color: var(--sklearn-color-text);\n",
              "}\n",
              "\n",
              "/* Toggleable content - dropdown */\n",
              "\n",
              "#sk-container-id-1 div.sk-toggleable__content {\n",
              "  max-height: 0;\n",
              "  max-width: 0;\n",
              "  overflow: hidden;\n",
              "  text-align: left;\n",
              "  /* unfitted */\n",
              "  background-color: var(--sklearn-color-unfitted-level-0);\n",
              "}\n",
              "\n",
              "#sk-container-id-1 div.sk-toggleable__content.fitted {\n",
              "  /* fitted */\n",
              "  background-color: var(--sklearn-color-fitted-level-0);\n",
              "}\n",
              "\n",
              "#sk-container-id-1 div.sk-toggleable__content pre {\n",
              "  margin: 0.2em;\n",
              "  border-radius: 0.25em;\n",
              "  color: var(--sklearn-color-text);\n",
              "  /* unfitted */\n",
              "  background-color: var(--sklearn-color-unfitted-level-0);\n",
              "}\n",
              "\n",
              "#sk-container-id-1 div.sk-toggleable__content.fitted pre {\n",
              "  /* unfitted */\n",
              "  background-color: var(--sklearn-color-fitted-level-0);\n",
              "}\n",
              "\n",
              "#sk-container-id-1 input.sk-toggleable__control:checked~div.sk-toggleable__content {\n",
              "  /* Expand drop-down */\n",
              "  max-height: 200px;\n",
              "  max-width: 100%;\n",
              "  overflow: auto;\n",
              "}\n",
              "\n",
              "#sk-container-id-1 input.sk-toggleable__control:checked~label.sk-toggleable__label-arrow:before {\n",
              "  content: \"▾\";\n",
              "}\n",
              "\n",
              "/* Pipeline/ColumnTransformer-specific style */\n",
              "\n",
              "#sk-container-id-1 div.sk-label input.sk-toggleable__control:checked~label.sk-toggleable__label {\n",
              "  color: var(--sklearn-color-text);\n",
              "  background-color: var(--sklearn-color-unfitted-level-2);\n",
              "}\n",
              "\n",
              "#sk-container-id-1 div.sk-label.fitted input.sk-toggleable__control:checked~label.sk-toggleable__label {\n",
              "  background-color: var(--sklearn-color-fitted-level-2);\n",
              "}\n",
              "\n",
              "/* Estimator-specific style */\n",
              "\n",
              "/* Colorize estimator box */\n",
              "#sk-container-id-1 div.sk-estimator input.sk-toggleable__control:checked~label.sk-toggleable__label {\n",
              "  /* unfitted */\n",
              "  background-color: var(--sklearn-color-unfitted-level-2);\n",
              "}\n",
              "\n",
              "#sk-container-id-1 div.sk-estimator.fitted input.sk-toggleable__control:checked~label.sk-toggleable__label {\n",
              "  /* fitted */\n",
              "  background-color: var(--sklearn-color-fitted-level-2);\n",
              "}\n",
              "\n",
              "#sk-container-id-1 div.sk-label label.sk-toggleable__label,\n",
              "#sk-container-id-1 div.sk-label label {\n",
              "  /* The background is the default theme color */\n",
              "  color: var(--sklearn-color-text-on-default-background);\n",
              "}\n",
              "\n",
              "/* On hover, darken the color of the background */\n",
              "#sk-container-id-1 div.sk-label:hover label.sk-toggleable__label {\n",
              "  color: var(--sklearn-color-text);\n",
              "  background-color: var(--sklearn-color-unfitted-level-2);\n",
              "}\n",
              "\n",
              "/* Label box, darken color on hover, fitted */\n",
              "#sk-container-id-1 div.sk-label.fitted:hover label.sk-toggleable__label.fitted {\n",
              "  color: var(--sklearn-color-text);\n",
              "  background-color: var(--sklearn-color-fitted-level-2);\n",
              "}\n",
              "\n",
              "/* Estimator label */\n",
              "\n",
              "#sk-container-id-1 div.sk-label label {\n",
              "  font-family: monospace;\n",
              "  font-weight: bold;\n",
              "  display: inline-block;\n",
              "  line-height: 1.2em;\n",
              "}\n",
              "\n",
              "#sk-container-id-1 div.sk-label-container {\n",
              "  text-align: center;\n",
              "}\n",
              "\n",
              "/* Estimator-specific */\n",
              "#sk-container-id-1 div.sk-estimator {\n",
              "  font-family: monospace;\n",
              "  border: 1px dotted var(--sklearn-color-border-box);\n",
              "  border-radius: 0.25em;\n",
              "  box-sizing: border-box;\n",
              "  margin-bottom: 0.5em;\n",
              "  /* unfitted */\n",
              "  background-color: var(--sklearn-color-unfitted-level-0);\n",
              "}\n",
              "\n",
              "#sk-container-id-1 div.sk-estimator.fitted {\n",
              "  /* fitted */\n",
              "  background-color: var(--sklearn-color-fitted-level-0);\n",
              "}\n",
              "\n",
              "/* on hover */\n",
              "#sk-container-id-1 div.sk-estimator:hover {\n",
              "  /* unfitted */\n",
              "  background-color: var(--sklearn-color-unfitted-level-2);\n",
              "}\n",
              "\n",
              "#sk-container-id-1 div.sk-estimator.fitted:hover {\n",
              "  /* fitted */\n",
              "  background-color: var(--sklearn-color-fitted-level-2);\n",
              "}\n",
              "\n",
              "/* Specification for estimator info (e.g. \"i\" and \"?\") */\n",
              "\n",
              "/* Common style for \"i\" and \"?\" */\n",
              "\n",
              ".sk-estimator-doc-link,\n",
              "a:link.sk-estimator-doc-link,\n",
              "a:visited.sk-estimator-doc-link {\n",
              "  float: right;\n",
              "  font-size: smaller;\n",
              "  line-height: 1em;\n",
              "  font-family: monospace;\n",
              "  background-color: var(--sklearn-color-background);\n",
              "  border-radius: 1em;\n",
              "  height: 1em;\n",
              "  width: 1em;\n",
              "  text-decoration: none !important;\n",
              "  margin-left: 1ex;\n",
              "  /* unfitted */\n",
              "  border: var(--sklearn-color-unfitted-level-1) 1pt solid;\n",
              "  color: var(--sklearn-color-unfitted-level-1);\n",
              "}\n",
              "\n",
              ".sk-estimator-doc-link.fitted,\n",
              "a:link.sk-estimator-doc-link.fitted,\n",
              "a:visited.sk-estimator-doc-link.fitted {\n",
              "  /* fitted */\n",
              "  border: var(--sklearn-color-fitted-level-1) 1pt solid;\n",
              "  color: var(--sklearn-color-fitted-level-1);\n",
              "}\n",
              "\n",
              "/* On hover */\n",
              "div.sk-estimator:hover .sk-estimator-doc-link:hover,\n",
              ".sk-estimator-doc-link:hover,\n",
              "div.sk-label-container:hover .sk-estimator-doc-link:hover,\n",
              ".sk-estimator-doc-link:hover {\n",
              "  /* unfitted */\n",
              "  background-color: var(--sklearn-color-unfitted-level-3);\n",
              "  color: var(--sklearn-color-background);\n",
              "  text-decoration: none;\n",
              "}\n",
              "\n",
              "div.sk-estimator.fitted:hover .sk-estimator-doc-link.fitted:hover,\n",
              ".sk-estimator-doc-link.fitted:hover,\n",
              "div.sk-label-container:hover .sk-estimator-doc-link.fitted:hover,\n",
              ".sk-estimator-doc-link.fitted:hover {\n",
              "  /* fitted */\n",
              "  background-color: var(--sklearn-color-fitted-level-3);\n",
              "  color: var(--sklearn-color-background);\n",
              "  text-decoration: none;\n",
              "}\n",
              "\n",
              "/* Span, style for the box shown on hovering the info icon */\n",
              ".sk-estimator-doc-link span {\n",
              "  display: none;\n",
              "  z-index: 9999;\n",
              "  position: relative;\n",
              "  font-weight: normal;\n",
              "  right: .2ex;\n",
              "  padding: .5ex;\n",
              "  margin: .5ex;\n",
              "  width: min-content;\n",
              "  min-width: 20ex;\n",
              "  max-width: 50ex;\n",
              "  color: var(--sklearn-color-text);\n",
              "  box-shadow: 2pt 2pt 4pt #999;\n",
              "  /* unfitted */\n",
              "  background: var(--sklearn-color-unfitted-level-0);\n",
              "  border: .5pt solid var(--sklearn-color-unfitted-level-3);\n",
              "}\n",
              "\n",
              ".sk-estimator-doc-link.fitted span {\n",
              "  /* fitted */\n",
              "  background: var(--sklearn-color-fitted-level-0);\n",
              "  border: var(--sklearn-color-fitted-level-3);\n",
              "}\n",
              "\n",
              ".sk-estimator-doc-link:hover span {\n",
              "  display: block;\n",
              "}\n",
              "\n",
              "/* \"?\"-specific style due to the `<a>` HTML tag */\n",
              "\n",
              "#sk-container-id-1 a.estimator_doc_link {\n",
              "  float: right;\n",
              "  font-size: 1rem;\n",
              "  line-height: 1em;\n",
              "  font-family: monospace;\n",
              "  background-color: var(--sklearn-color-background);\n",
              "  border-radius: 1rem;\n",
              "  height: 1rem;\n",
              "  width: 1rem;\n",
              "  text-decoration: none;\n",
              "  /* unfitted */\n",
              "  color: var(--sklearn-color-unfitted-level-1);\n",
              "  border: var(--sklearn-color-unfitted-level-1) 1pt solid;\n",
              "}\n",
              "\n",
              "#sk-container-id-1 a.estimator_doc_link.fitted {\n",
              "  /* fitted */\n",
              "  border: var(--sklearn-color-fitted-level-1) 1pt solid;\n",
              "  color: var(--sklearn-color-fitted-level-1);\n",
              "}\n",
              "\n",
              "/* On hover */\n",
              "#sk-container-id-1 a.estimator_doc_link:hover {\n",
              "  /* unfitted */\n",
              "  background-color: var(--sklearn-color-unfitted-level-3);\n",
              "  color: var(--sklearn-color-background);\n",
              "  text-decoration: none;\n",
              "}\n",
              "\n",
              "#sk-container-id-1 a.estimator_doc_link.fitted:hover {\n",
              "  /* fitted */\n",
              "  background-color: var(--sklearn-color-fitted-level-3);\n",
              "}\n",
              "</style><div id=\"sk-container-id-1\" class=\"sk-top-container\"><div class=\"sk-text-repr-fallback\"><pre>LogisticRegression(max_iter=1000, random_state=42, solver=&#x27;liblinear&#x27;)</pre><b>In a Jupyter environment, please rerun this cell to show the HTML representation or trust the notebook. <br />On GitHub, the HTML representation is unable to render, please try loading this page with nbviewer.org.</b></div><div class=\"sk-container\" hidden><div class=\"sk-item\"><div class=\"sk-estimator fitted sk-toggleable\"><input class=\"sk-toggleable__control sk-hidden--visually\" id=\"sk-estimator-id-1\" type=\"checkbox\" checked><label for=\"sk-estimator-id-1\" class=\"sk-toggleable__label fitted sk-toggleable__label-arrow fitted\">&nbsp;&nbsp;LogisticRegression<a class=\"sk-estimator-doc-link fitted\" rel=\"noreferrer\" target=\"_blank\" href=\"https://scikit-learn.org/1.5/modules/generated/sklearn.linear_model.LogisticRegression.html\">?<span>Documentation for LogisticRegression</span></a><span class=\"sk-estimator-doc-link fitted\">i<span>Fitted</span></span></label><div class=\"sk-toggleable__content fitted\"><pre>LogisticRegression(max_iter=1000, random_state=42, solver=&#x27;liblinear&#x27;)</pre></div> </div></div></div></div>"
            ],
            "text/plain": [
              "LogisticRegression(max_iter=1000, random_state=42, solver='liblinear')"
            ]
          },
          "execution_count": 28,
          "metadata": {},
          "output_type": "execute_result"
        }
      ],
      "source": [
        "# Fit the logistic regression model\n",
        "model = LogisticRegression(solver='liblinear', C=1.0, max_iter=1000, random_state=42)\n",
        "model.fit(X_train_encoded, train['y'])"
      ]
    },
    {
      "cell_type": "code",
      "execution_count": 29,
      "metadata": {
        "id": "Q5ZzO9xtYAKg"
      },
      "outputs": [],
      "source": [
        "# Create one-hot encoded features for the validation dataset\n",
        "X_val_encoded = pd.get_dummies(val[categorical_features], drop_first=True)"
      ]
    },
    {
      "cell_type": "code",
      "execution_count": 30,
      "metadata": {
        "id": "NuOpRhUoYJBG"
      },
      "outputs": [],
      "source": [
        "# Ensure the validation set has the same features as the training set\n",
        "X_val_encoded = X_val_encoded.reindex(columns=X_train_encoded.columns, fill_value=0)"
      ]
    },
    {
      "cell_type": "code",
      "execution_count": 31,
      "metadata": {
        "colab": {
          "base_uri": "https://localhost:8080/"
        },
        "id": "GGpwCGuSYNKS",
        "outputId": "b7f7b900-5e77-474b-9aa4-d1a984d0b0fd"
      },
      "outputs": [],
      "source": [
        "# Predict on the validation dataset\n",
        "y_val_pred = model.predict(X_val_encoded)"
      ]
    },
    {
      "cell_type": "code",
      "execution_count": 32,
      "metadata": {
        "colab": {
          "base_uri": "https://localhost:8080/"
        },
        "id": "Yskjc2HHYVoT",
        "outputId": "8c11f24f-c3ef-4f8a-e752-7490675c201a"
      },
      "outputs": [],
      "source": [
        "# Calculate the accuracy\n",
        "accuracy = accuracy_score(val['y'], y_val_pred)"
      ]
    },
    {
      "cell_type": "code",
      "execution_count": 33,
      "metadata": {},
      "outputs": [
        {
          "data": {
            "text/plain": [
              "0.9"
            ]
          },
          "execution_count": 33,
          "metadata": {},
          "output_type": "execute_result"
        }
      ],
      "source": [
        "# Round the accuracy to 2 decimal digits\n",
        "accuracy_rounded = round(accuracy, 1)\n",
        "accuracy_rounded"
      ]
    },
    {
      "cell_type": "markdown",
      "metadata": {
        "id": "WYuK-YigYhnf"
      },
      "source": [
        "### Question 5 \n",
        "\n",
        "* Let's find the least useful feature using the *feature elimination* technique.\n",
        "* Train a model with all these features (using the same parameters as in Q4).\n",
        "* Now exclude each feature from this set and train a model without it. Record the accuracy for each model.\n",
        "* For each feature, calculate the difference between the original accuracy and the accuracy without the feature. \n",
        "\n",
        "Which of following feature has the smallest difference?\n",
        "\n",
        "- `age`\n",
        "- `balance`\n",
        "- `marital`\n",
        "- `previous`\n",
        "\n",
        "> **Note**: The difference doesn't have to be positive."
      ]
    },
    {
      "cell_type": "code",
      "execution_count": 34,
      "metadata": {},
      "outputs": [
        {
          "data": {
            "text/plain": [
              "0.8961512939615129"
            ]
          },
          "execution_count": 34,
          "metadata": {},
          "output_type": "execute_result"
        }
      ],
      "source": [
        "# Calculate the accuracy with all features included\n",
        "y_val_pred = model.predict(pd.get_dummies(val.drop(columns=['y']), drop_first=True).reindex(columns=X_train_encoded.columns, fill_value=0))\n",
        "original_accuracy = accuracy_score(val['y'], y_val_pred)\n",
        "original_accuracy"
      ]
    },
    {
      "cell_type": "code",
      "execution_count": 35,
      "metadata": {},
      "outputs": [],
      "source": [
        "# Initialize a dictionary to store accuracy differences for each feature\n",
        "accuracy_differences = {}"
      ]
    },
    {
      "cell_type": "code",
      "execution_count": 36,
      "metadata": {},
      "outputs": [],
      "source": [
        "# Loop through each feature and exclude it one by one\n",
        "for feature in X_train_encoded.columns:\n",
        "    # Create a new feature set excluding the current feature\n",
        "    X_train_excluded = X_train_encoded.drop(columns=[feature])\n",
        "    \n",
        "    # Train the model again without the excluded feature\n",
        "    model.fit(X_train_excluded, y_train)\n",
        "    \n",
        "    # Create one-hot encoded features for the validation dataset without the excluded feature\n",
        "    X_val_excluded = pd.get_dummies(val.drop(columns=['y']), drop_first=True).reindex(columns=X_train_encoded.columns, fill_value=0).drop(columns=[feature])\n",
        "    \n",
        "    # Predict on the validation dataset\n",
        "    y_val_pred_excluded = model.predict(X_val_excluded)\n",
        "    \n",
        "    # Calculate accuracy without the excluded feature\n",
        "    accuracy_excluded = accuracy_score(val['y'], y_val_pred_excluded)\n",
        "    \n",
        "    # Calculate the difference between original accuracy and accuracy without the feature\n",
        "    accuracy_difference = original_accuracy - accuracy_excluded\n",
        "    accuracy_differences[feature] = accuracy_difference"
      ]
    },
    {
      "cell_type": "code",
      "execution_count": 37,
      "metadata": {},
      "outputs": [
        {
          "name": "stdout",
          "output_type": "stream",
          "text": [
            "The feature with the smallest difference is: job_student with a difference of -0.0001\n"
          ]
        }
      ],
      "source": [
        "# Find the feature with the smallest difference\n",
        "least_useful_feature = min(accuracy_differences, key=accuracy_differences.get)\n",
        "smallest_difference = accuracy_differences[least_useful_feature]\n",
        "\n",
        "print(f\"The feature with the smallest difference is: {least_useful_feature} with a difference of {smallest_difference:.4f}\")"
      ]
    },
    {
      "cell_type": "markdown",
      "metadata": {
        "id": "tVKD4eeWZCwe"
      },
      "source": [
        "### Question 6\n",
        "\n",
        "* Now let's train a regularized logistic regression.\n",
        "* Let's try the following values of the parameter `C`: `[0.01, 0.1, 1, 10, 100]`.\n",
        "* Train models using all the features as in Q4.\n",
        "* Calculate the accuracy on the validation dataset and round it to 3 decimal digits.\n",
        "\n",
        "Which of these `C` leads to the best accuracy on the validation set?\n",
        "\n",
        "- 0.01\n",
        "- 0.1\n",
        "- 1\n",
        "- 10\n",
        "- 100\n",
        "\n",
        "> **Note**: If there are multiple options, select the smallest `C`."
      ]
    },
    {
      "cell_type": "code",
      "execution_count": 38,
      "metadata": {
        "id": "oiM9SeHoZD0m"
      },
      "outputs": [],
      "source": [
        "# Initialize a dictionary to store the accuracy for each value of C\n",
        "accuracy_results = {}"
      ]
    },
    {
      "cell_type": "code",
      "execution_count": 39,
      "metadata": {
        "id": "uuS5jr2iZWe9"
      },
      "outputs": [],
      "source": [
        "# Values of C to try\n",
        "C_values = [0.01, 0.1, 1, 10, 100]"
      ]
    },
    {
      "cell_type": "code",
      "execution_count": 40,
      "metadata": {
        "colab": {
          "base_uri": "https://localhost:8080/"
        },
        "id": "fYATJ1TNZebz",
        "outputId": "18a21799-016f-4451-86d9-9cf74c8a637b"
      },
      "outputs": [],
      "source": [
        "# Loop through each value of C, train the model, and calculate accuracy\n",
        "for C in C_values:\n",
        "    # Fit the logistic regression model with the current C value\n",
        "    model = LogisticRegression(solver='liblinear', C=C, max_iter=1000, random_state=42)\n",
        "    model.fit(X_train_encoded, train['y'])\n",
        "    \n",
        "    # Predict on the validation dataset\n",
        "    y_val_pred = model.predict(X_val_encoded)\n",
        "    \n",
        "    # Calculate accuracy\n",
        "    accuracy = accuracy_score(val['y'], y_val_pred)\n",
        "    \n",
        "    # Round the accuracy to 3 decimal digits and store it\n",
        "    accuracy_results[C] = round(accuracy, 3)"
      ]
    },
    {
      "cell_type": "code",
      "execution_count": 41,
      "metadata": {
        "colab": {
          "base_uri": "https://localhost:8080/"
        },
        "id": "UWbQ8uAfZkT1",
        "outputId": "c7c35d4e-47b9-4643-f167-acd86d00495a"
      },
      "outputs": [
        {
          "data": {
            "text/plain": [
              "(0.01, 0.894)"
            ]
          },
          "execution_count": 41,
          "metadata": {},
          "output_type": "execute_result"
        }
      ],
      "source": [
        "# Find the value of C with the best accuracy\n",
        "best_C = min(accuracy_results, key=accuracy_results.get)\n",
        "best_accuracy = accuracy_results[best_C]\n",
        "\n",
        "best_C, best_accuracy"
      ]
    }
  ],
  "metadata": {
    "colab": {
      "provenance": []
    },
    "kernelspec": {
      "display_name": "Python 3",
      "name": "python3"
    },
    "language_info": {
      "codemirror_mode": {
        "name": "ipython",
        "version": 3
      },
      "file_extension": ".py",
      "mimetype": "text/x-python",
      "name": "python",
      "nbconvert_exporter": "python",
      "pygments_lexer": "ipython3",
      "version": "3.12.2"
    }
  },
  "nbformat": 4,
  "nbformat_minor": 0
}
